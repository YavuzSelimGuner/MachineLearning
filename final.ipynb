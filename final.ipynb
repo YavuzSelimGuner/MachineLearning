{
  "nbformat": 4,
  "nbformat_minor": 0,
  "metadata": {
    "colab": {
      "provenance": []
    },
    "kernelspec": {
      "name": "python3",
      "display_name": "Python 3"
    },
    "language_info": {
      "name": "python"
    }
  },
  "cells": [
    {
      "cell_type": "markdown",
      "source": [
        "# MAKİNE ÖĞRENMESİ FİNAL"
      ],
      "metadata": {
        "id": "4KWLAZKJd8T1"
      }
    },
    {
      "cell_type": "markdown",
      "source": [
        "Yavuz Selim Güner\n",
        "\n",
        "20040101026"
      ],
      "metadata": {
        "id": "E6SPB4BVeGty"
      }
    },
    {
      "cell_type": "markdown",
      "source": [
        "Gereksiz uyarılar gelmesin diye uyguladım."
      ],
      "metadata": {
        "id": "4xJSRlrtC5hM"
      }
    },
    {
      "cell_type": "code",
      "source": [
        "import warnings\n",
        "\n",
        "warnings.filterwarnings('ignore')"
      ],
      "metadata": {
        "id": "6dN2IkogAxCL"
      },
      "execution_count": 103,
      "outputs": []
    },
    {
      "cell_type": "markdown",
      "source": [
        "**Veri Setinin Yüklenmesi ve Ön İşleme**"
      ],
      "metadata": {
        "id": "V4ReYkuSePPp"
      }
    },
    {
      "cell_type": "markdown",
      "source": [
        "Öncelikle veri setini yükleyelim ve tanımlayalım."
      ],
      "metadata": {
        "id": "7JD0gtC7g5nG"
      }
    },
    {
      "cell_type": "code",
      "execution_count": 104,
      "metadata": {
        "id": "bEL02IM_b6V3"
      },
      "outputs": [],
      "source": [
        "import pandas as pd"
      ]
    },
    {
      "cell_type": "code",
      "source": [
        "data = pd.read_csv(\"./veri-seti.txt\", sep=\"\\s+\", header=None)\n",
        "columnHeads = [\"Pregnancies\", \"Glucose\", \"BloodPressure\", \"SkinThickness\", \"Insulin\",\n",
        "                \"BMI\", \"DiabetesPedigreeFunction\", \"Age\", \"Outcome\"]\n",
        "data.columns = columnHeads\n",
        "print(f'Row - Column {data.shape}')\n",
        "data.head()"
      ],
      "metadata": {
        "colab": {
          "base_uri": "https://localhost:8080/",
          "height": 224
        },
        "id": "RxVuMRSreYb_",
        "outputId": "5d7919b6-20e7-47c5-8ca2-50334976e748"
      },
      "execution_count": 105,
      "outputs": [
        {
          "output_type": "stream",
          "name": "stdout",
          "text": [
            "Row - Column (768, 9)\n"
          ]
        },
        {
          "output_type": "execute_result",
          "data": {
            "text/plain": [
              "   Pregnancies  Glucose  BloodPressure  SkinThickness  Insulin   BMI  \\\n",
              "0            6      148             72             35        0  33.6   \n",
              "1            1       85             66             29        0  26.6   \n",
              "2            8      183             64              0        0  23.3   \n",
              "3            1       89             66             23       94  28.1   \n",
              "4            0      137             40             35      168  43.1   \n",
              "\n",
              "   DiabetesPedigreeFunction  Age  Outcome  \n",
              "0                     0.627   50        1  \n",
              "1                     0.351   31        0  \n",
              "2                     0.672   32        1  \n",
              "3                     0.167   21        0  \n",
              "4                     2.288   33        1  "
            ],
            "text/html": [
              "\n",
              "  <div id=\"df-97a5e8a8-e20a-44bf-8dbd-1b9a54d7d84a\" class=\"colab-df-container\">\n",
              "    <div>\n",
              "<style scoped>\n",
              "    .dataframe tbody tr th:only-of-type {\n",
              "        vertical-align: middle;\n",
              "    }\n",
              "\n",
              "    .dataframe tbody tr th {\n",
              "        vertical-align: top;\n",
              "    }\n",
              "\n",
              "    .dataframe thead th {\n",
              "        text-align: right;\n",
              "    }\n",
              "</style>\n",
              "<table border=\"1\" class=\"dataframe\">\n",
              "  <thead>\n",
              "    <tr style=\"text-align: right;\">\n",
              "      <th></th>\n",
              "      <th>Pregnancies</th>\n",
              "      <th>Glucose</th>\n",
              "      <th>BloodPressure</th>\n",
              "      <th>SkinThickness</th>\n",
              "      <th>Insulin</th>\n",
              "      <th>BMI</th>\n",
              "      <th>DiabetesPedigreeFunction</th>\n",
              "      <th>Age</th>\n",
              "      <th>Outcome</th>\n",
              "    </tr>\n",
              "  </thead>\n",
              "  <tbody>\n",
              "    <tr>\n",
              "      <th>0</th>\n",
              "      <td>6</td>\n",
              "      <td>148</td>\n",
              "      <td>72</td>\n",
              "      <td>35</td>\n",
              "      <td>0</td>\n",
              "      <td>33.6</td>\n",
              "      <td>0.627</td>\n",
              "      <td>50</td>\n",
              "      <td>1</td>\n",
              "    </tr>\n",
              "    <tr>\n",
              "      <th>1</th>\n",
              "      <td>1</td>\n",
              "      <td>85</td>\n",
              "      <td>66</td>\n",
              "      <td>29</td>\n",
              "      <td>0</td>\n",
              "      <td>26.6</td>\n",
              "      <td>0.351</td>\n",
              "      <td>31</td>\n",
              "      <td>0</td>\n",
              "    </tr>\n",
              "    <tr>\n",
              "      <th>2</th>\n",
              "      <td>8</td>\n",
              "      <td>183</td>\n",
              "      <td>64</td>\n",
              "      <td>0</td>\n",
              "      <td>0</td>\n",
              "      <td>23.3</td>\n",
              "      <td>0.672</td>\n",
              "      <td>32</td>\n",
              "      <td>1</td>\n",
              "    </tr>\n",
              "    <tr>\n",
              "      <th>3</th>\n",
              "      <td>1</td>\n",
              "      <td>89</td>\n",
              "      <td>66</td>\n",
              "      <td>23</td>\n",
              "      <td>94</td>\n",
              "      <td>28.1</td>\n",
              "      <td>0.167</td>\n",
              "      <td>21</td>\n",
              "      <td>0</td>\n",
              "    </tr>\n",
              "    <tr>\n",
              "      <th>4</th>\n",
              "      <td>0</td>\n",
              "      <td>137</td>\n",
              "      <td>40</td>\n",
              "      <td>35</td>\n",
              "      <td>168</td>\n",
              "      <td>43.1</td>\n",
              "      <td>2.288</td>\n",
              "      <td>33</td>\n",
              "      <td>1</td>\n",
              "    </tr>\n",
              "  </tbody>\n",
              "</table>\n",
              "</div>\n",
              "    <div class=\"colab-df-buttons\">\n",
              "\n",
              "  <div class=\"colab-df-container\">\n",
              "    <button class=\"colab-df-convert\" onclick=\"convertToInteractive('df-97a5e8a8-e20a-44bf-8dbd-1b9a54d7d84a')\"\n",
              "            title=\"Convert this dataframe to an interactive table.\"\n",
              "            style=\"display:none;\">\n",
              "\n",
              "  <svg xmlns=\"http://www.w3.org/2000/svg\" height=\"24px\" viewBox=\"0 -960 960 960\">\n",
              "    <path d=\"M120-120v-720h720v720H120Zm60-500h600v-160H180v160Zm220 220h160v-160H400v160Zm0 220h160v-160H400v160ZM180-400h160v-160H180v160Zm440 0h160v-160H620v160ZM180-180h160v-160H180v160Zm440 0h160v-160H620v160Z\"/>\n",
              "  </svg>\n",
              "    </button>\n",
              "\n",
              "  <style>\n",
              "    .colab-df-container {\n",
              "      display:flex;\n",
              "      gap: 12px;\n",
              "    }\n",
              "\n",
              "    .colab-df-convert {\n",
              "      background-color: #E8F0FE;\n",
              "      border: none;\n",
              "      border-radius: 50%;\n",
              "      cursor: pointer;\n",
              "      display: none;\n",
              "      fill: #1967D2;\n",
              "      height: 32px;\n",
              "      padding: 0 0 0 0;\n",
              "      width: 32px;\n",
              "    }\n",
              "\n",
              "    .colab-df-convert:hover {\n",
              "      background-color: #E2EBFA;\n",
              "      box-shadow: 0px 1px 2px rgba(60, 64, 67, 0.3), 0px 1px 3px 1px rgba(60, 64, 67, 0.15);\n",
              "      fill: #174EA6;\n",
              "    }\n",
              "\n",
              "    .colab-df-buttons div {\n",
              "      margin-bottom: 4px;\n",
              "    }\n",
              "\n",
              "    [theme=dark] .colab-df-convert {\n",
              "      background-color: #3B4455;\n",
              "      fill: #D2E3FC;\n",
              "    }\n",
              "\n",
              "    [theme=dark] .colab-df-convert:hover {\n",
              "      background-color: #434B5C;\n",
              "      box-shadow: 0px 1px 3px 1px rgba(0, 0, 0, 0.15);\n",
              "      filter: drop-shadow(0px 1px 2px rgba(0, 0, 0, 0.3));\n",
              "      fill: #FFFFFF;\n",
              "    }\n",
              "  </style>\n",
              "\n",
              "    <script>\n",
              "      const buttonEl =\n",
              "        document.querySelector('#df-97a5e8a8-e20a-44bf-8dbd-1b9a54d7d84a button.colab-df-convert');\n",
              "      buttonEl.style.display =\n",
              "        google.colab.kernel.accessAllowed ? 'block' : 'none';\n",
              "\n",
              "      async function convertToInteractive(key) {\n",
              "        const element = document.querySelector('#df-97a5e8a8-e20a-44bf-8dbd-1b9a54d7d84a');\n",
              "        const dataTable =\n",
              "          await google.colab.kernel.invokeFunction('convertToInteractive',\n",
              "                                                    [key], {});\n",
              "        if (!dataTable) return;\n",
              "\n",
              "        const docLinkHtml = 'Like what you see? Visit the ' +\n",
              "          '<a target=\"_blank\" href=https://colab.research.google.com/notebooks/data_table.ipynb>data table notebook</a>'\n",
              "          + ' to learn more about interactive tables.';\n",
              "        element.innerHTML = '';\n",
              "        dataTable['output_type'] = 'display_data';\n",
              "        await google.colab.output.renderOutput(dataTable, element);\n",
              "        const docLink = document.createElement('div');\n",
              "        docLink.innerHTML = docLinkHtml;\n",
              "        element.appendChild(docLink);\n",
              "      }\n",
              "    </script>\n",
              "  </div>\n",
              "\n",
              "\n",
              "<div id=\"df-d4e4084c-e194-466a-85b7-be6d020dc50a\">\n",
              "  <button class=\"colab-df-quickchart\" onclick=\"quickchart('df-d4e4084c-e194-466a-85b7-be6d020dc50a')\"\n",
              "            title=\"Suggest charts\"\n",
              "            style=\"display:none;\">\n",
              "\n",
              "<svg xmlns=\"http://www.w3.org/2000/svg\" height=\"24px\"viewBox=\"0 0 24 24\"\n",
              "     width=\"24px\">\n",
              "    <g>\n",
              "        <path d=\"M19 3H5c-1.1 0-2 .9-2 2v14c0 1.1.9 2 2 2h14c1.1 0 2-.9 2-2V5c0-1.1-.9-2-2-2zM9 17H7v-7h2v7zm4 0h-2V7h2v10zm4 0h-2v-4h2v4z\"/>\n",
              "    </g>\n",
              "</svg>\n",
              "  </button>\n",
              "\n",
              "<style>\n",
              "  .colab-df-quickchart {\n",
              "      --bg-color: #E8F0FE;\n",
              "      --fill-color: #1967D2;\n",
              "      --hover-bg-color: #E2EBFA;\n",
              "      --hover-fill-color: #174EA6;\n",
              "      --disabled-fill-color: #AAA;\n",
              "      --disabled-bg-color: #DDD;\n",
              "  }\n",
              "\n",
              "  [theme=dark] .colab-df-quickchart {\n",
              "      --bg-color: #3B4455;\n",
              "      --fill-color: #D2E3FC;\n",
              "      --hover-bg-color: #434B5C;\n",
              "      --hover-fill-color: #FFFFFF;\n",
              "      --disabled-bg-color: #3B4455;\n",
              "      --disabled-fill-color: #666;\n",
              "  }\n",
              "\n",
              "  .colab-df-quickchart {\n",
              "    background-color: var(--bg-color);\n",
              "    border: none;\n",
              "    border-radius: 50%;\n",
              "    cursor: pointer;\n",
              "    display: none;\n",
              "    fill: var(--fill-color);\n",
              "    height: 32px;\n",
              "    padding: 0;\n",
              "    width: 32px;\n",
              "  }\n",
              "\n",
              "  .colab-df-quickchart:hover {\n",
              "    background-color: var(--hover-bg-color);\n",
              "    box-shadow: 0 1px 2px rgba(60, 64, 67, 0.3), 0 1px 3px 1px rgba(60, 64, 67, 0.15);\n",
              "    fill: var(--button-hover-fill-color);\n",
              "  }\n",
              "\n",
              "  .colab-df-quickchart-complete:disabled,\n",
              "  .colab-df-quickchart-complete:disabled:hover {\n",
              "    background-color: var(--disabled-bg-color);\n",
              "    fill: var(--disabled-fill-color);\n",
              "    box-shadow: none;\n",
              "  }\n",
              "\n",
              "  .colab-df-spinner {\n",
              "    border: 2px solid var(--fill-color);\n",
              "    border-color: transparent;\n",
              "    border-bottom-color: var(--fill-color);\n",
              "    animation:\n",
              "      spin 1s steps(1) infinite;\n",
              "  }\n",
              "\n",
              "  @keyframes spin {\n",
              "    0% {\n",
              "      border-color: transparent;\n",
              "      border-bottom-color: var(--fill-color);\n",
              "      border-left-color: var(--fill-color);\n",
              "    }\n",
              "    20% {\n",
              "      border-color: transparent;\n",
              "      border-left-color: var(--fill-color);\n",
              "      border-top-color: var(--fill-color);\n",
              "    }\n",
              "    30% {\n",
              "      border-color: transparent;\n",
              "      border-left-color: var(--fill-color);\n",
              "      border-top-color: var(--fill-color);\n",
              "      border-right-color: var(--fill-color);\n",
              "    }\n",
              "    40% {\n",
              "      border-color: transparent;\n",
              "      border-right-color: var(--fill-color);\n",
              "      border-top-color: var(--fill-color);\n",
              "    }\n",
              "    60% {\n",
              "      border-color: transparent;\n",
              "      border-right-color: var(--fill-color);\n",
              "    }\n",
              "    80% {\n",
              "      border-color: transparent;\n",
              "      border-right-color: var(--fill-color);\n",
              "      border-bottom-color: var(--fill-color);\n",
              "    }\n",
              "    90% {\n",
              "      border-color: transparent;\n",
              "      border-bottom-color: var(--fill-color);\n",
              "    }\n",
              "  }\n",
              "</style>\n",
              "\n",
              "  <script>\n",
              "    async function quickchart(key) {\n",
              "      const quickchartButtonEl =\n",
              "        document.querySelector('#' + key + ' button');\n",
              "      quickchartButtonEl.disabled = true;  // To prevent multiple clicks.\n",
              "      quickchartButtonEl.classList.add('colab-df-spinner');\n",
              "      try {\n",
              "        const charts = await google.colab.kernel.invokeFunction(\n",
              "            'suggestCharts', [key], {});\n",
              "      } catch (error) {\n",
              "        console.error('Error during call to suggestCharts:', error);\n",
              "      }\n",
              "      quickchartButtonEl.classList.remove('colab-df-spinner');\n",
              "      quickchartButtonEl.classList.add('colab-df-quickchart-complete');\n",
              "    }\n",
              "    (() => {\n",
              "      let quickchartButtonEl =\n",
              "        document.querySelector('#df-d4e4084c-e194-466a-85b7-be6d020dc50a button');\n",
              "      quickchartButtonEl.style.display =\n",
              "        google.colab.kernel.accessAllowed ? 'block' : 'none';\n",
              "    })();\n",
              "  </script>\n",
              "</div>\n",
              "\n",
              "    </div>\n",
              "  </div>\n"
            ],
            "application/vnd.google.colaboratory.intrinsic+json": {
              "type": "dataframe",
              "variable_name": "data",
              "summary": "{\n  \"name\": \"data\",\n  \"rows\": 768,\n  \"fields\": [\n    {\n      \"column\": \"Pregnancies\",\n      \"properties\": {\n        \"dtype\": \"number\",\n        \"std\": 3,\n        \"min\": 0,\n        \"max\": 17,\n        \"num_unique_values\": 17,\n        \"samples\": [\n          6,\n          1,\n          3\n        ],\n        \"semantic_type\": \"\",\n        \"description\": \"\"\n      }\n    },\n    {\n      \"column\": \"Glucose\",\n      \"properties\": {\n        \"dtype\": \"number\",\n        \"std\": 31,\n        \"min\": 0,\n        \"max\": 199,\n        \"num_unique_values\": 136,\n        \"samples\": [\n          151,\n          101,\n          112\n        ],\n        \"semantic_type\": \"\",\n        \"description\": \"\"\n      }\n    },\n    {\n      \"column\": \"BloodPressure\",\n      \"properties\": {\n        \"dtype\": \"number\",\n        \"std\": 19,\n        \"min\": 0,\n        \"max\": 122,\n        \"num_unique_values\": 47,\n        \"samples\": [\n          86,\n          46,\n          85\n        ],\n        \"semantic_type\": \"\",\n        \"description\": \"\"\n      }\n    },\n    {\n      \"column\": \"SkinThickness\",\n      \"properties\": {\n        \"dtype\": \"number\",\n        \"std\": 15,\n        \"min\": 0,\n        \"max\": 99,\n        \"num_unique_values\": 51,\n        \"samples\": [\n          7,\n          12,\n          48\n        ],\n        \"semantic_type\": \"\",\n        \"description\": \"\"\n      }\n    },\n    {\n      \"column\": \"Insulin\",\n      \"properties\": {\n        \"dtype\": \"number\",\n        \"std\": 115,\n        \"min\": 0,\n        \"max\": 846,\n        \"num_unique_values\": 186,\n        \"samples\": [\n          52,\n          41,\n          183\n        ],\n        \"semantic_type\": \"\",\n        \"description\": \"\"\n      }\n    },\n    {\n      \"column\": \"BMI\",\n      \"properties\": {\n        \"dtype\": \"number\",\n        \"std\": 7.884160320375446,\n        \"min\": 0.0,\n        \"max\": 67.1,\n        \"num_unique_values\": 248,\n        \"samples\": [\n          19.9,\n          31.0,\n          38.1\n        ],\n        \"semantic_type\": \"\",\n        \"description\": \"\"\n      }\n    },\n    {\n      \"column\": \"DiabetesPedigreeFunction\",\n      \"properties\": {\n        \"dtype\": \"number\",\n        \"std\": 0.3313285950127749,\n        \"min\": 0.078,\n        \"max\": 2.42,\n        \"num_unique_values\": 517,\n        \"samples\": [\n          1.731,\n          0.426,\n          0.138\n        ],\n        \"semantic_type\": \"\",\n        \"description\": \"\"\n      }\n    },\n    {\n      \"column\": \"Age\",\n      \"properties\": {\n        \"dtype\": \"number\",\n        \"std\": 11,\n        \"min\": 21,\n        \"max\": 81,\n        \"num_unique_values\": 52,\n        \"samples\": [\n          60,\n          47,\n          72\n        ],\n        \"semantic_type\": \"\",\n        \"description\": \"\"\n      }\n    },\n    {\n      \"column\": \"Outcome\",\n      \"properties\": {\n        \"dtype\": \"number\",\n        \"std\": 0,\n        \"min\": 0,\n        \"max\": 1,\n        \"num_unique_values\": 2,\n        \"samples\": [\n          0,\n          1\n        ],\n        \"semantic_type\": \"\",\n        \"description\": \"\"\n      }\n    }\n  ]\n}"
            }
          },
          "metadata": {},
          "execution_count": 105
        }
      ]
    },
    {
      "cell_type": "markdown",
      "source": [
        "**Veriyi Eğitim ve Test Setlerine Ayırma ve Normalizasyon Uygulama**"
      ],
      "metadata": {
        "id": "f6ifF9qjhDKl"
      }
    },
    {
      "cell_type": "markdown",
      "source": [
        "Veriyi %70 eğitim ve %30 test setlerine bölelim ve normalizasyon uygulayalım."
      ],
      "metadata": {
        "id": "jtxqMKtLhR69"
      }
    },
    {
      "cell_type": "code",
      "source": [
        "from sklearn.model_selection import train_test_split\n",
        "from sklearn.preprocessing import StandardScaler\n",
        "\n",
        "# X ve y değişkenlerini tanımlama\n",
        "X = data.drop(columns=\"Outcome\")\n",
        "y = data[\"Outcome\"]\n",
        "\n",
        "# Eğitim ve test setlerine ayırma\n",
        "X_train, X_test, y_train, y_test = train_test_split(X, y, test_size=0.3, random_state=42)\n",
        "\n",
        "# Normalizasyon uygulama\n",
        "scaler = StandardScaler()\n",
        "X_train = scaler.fit_transform(X_train)\n",
        "X_test = scaler.transform(X_test)"
      ],
      "metadata": {
        "id": "xuwRAFKwhTo7"
      },
      "execution_count": 106,
      "outputs": []
    },
    {
      "cell_type": "markdown",
      "source": [
        "**Naive Bayes Sınıflandırıcısını Uygulama**"
      ],
      "metadata": {
        "id": "kUeAd6Pgignr"
      }
    },
    {
      "cell_type": "markdown",
      "source": [
        "Naive Bayes modelini eğitelim ve test seti üzerinde tahminler yapalım."
      ],
      "metadata": {
        "id": "W1nrkE5Jiljs"
      }
    },
    {
      "cell_type": "code",
      "source": [
        "from sklearn.naive_bayes import GaussianNB\n",
        "from sklearn.metrics import confusion_matrix, classification_report, roc_auc_score, roc_curve\n",
        "import matplotlib.pyplot as plt\n",
        "\n",
        "# Naive Bayes modelini oluşturma\n",
        "nb_model = GaussianNB()\n",
        "nb_model.fit(X_train, y_train)\n",
        "\n",
        "# Test seti üzerinde tahminler yapma\n",
        "y_pred_nb = nb_model.predict(X_test)\n",
        "\n",
        "# Konfüzyon Matrisi ve Classification Report\n",
        "cm_nb = confusion_matrix(y_test, y_pred_nb)\n",
        "cr_nb = classification_report(y_test, y_pred_nb)\n",
        "roc_auc_nb = roc_auc_score(y_test, nb_model.predict_proba(X_test)[:, 1])\n",
        "\n",
        "# ROC Curve\n",
        "fpr_nb, tpr_nb, _ = roc_curve(y_test, nb_model.predict_proba(X_test)[:, 1])\n",
        "plt.figure()\n",
        "plt.plot(fpr_nb, tpr_nb, label=\"Naive Bayes\")\n",
        "plt.xlabel(\"False Positive Rate\")\n",
        "plt.ylabel(\"True Positive Rate\")\n",
        "plt.title(\"Naive Bayes ROC Curve\")\n",
        "plt.legend()\n",
        "plt.show()\n",
        "\n",
        "# Özet Sonuçlar\n",
        "print(\"Naive Bayes\")\n",
        "print(\"Confusion Matrix:\")\n",
        "print(cm_nb)\n",
        "print(\"Classification Report:\")\n",
        "print(cr_nb)\n",
        "print(f\"ROC AUC Score: {roc_auc_nb}\")"
      ],
      "metadata": {
        "colab": {
          "base_uri": "https://localhost:8080/",
          "height": 744
        },
        "id": "iiz-W0uWigOe",
        "outputId": "f00d4dc8-04e6-4ba1-ad54-e0d6f60c6e1b"
      },
      "execution_count": 107,
      "outputs": [
        {
          "output_type": "display_data",
          "data": {
            "text/plain": [
              "<Figure size 640x480 with 1 Axes>"
            ],
            "image/png": "[encoded data removed]"
          },
          "metadata": {}
        },
        {
          "output_type": "stream",
          "name": "stdout",
          "text": [
            "Naive Bayes\n",
            "Confusion Matrix:\n",
            "[[119  32]\n",
            " [ 27  53]]\n",
            "Classification Report:\n",
            "              precision    recall  f1-score   support\n",
            "\n",
            "           0       0.82      0.79      0.80       151\n",
            "           1       0.62      0.66      0.64        80\n",
            "\n",
            "    accuracy                           0.74       231\n",
            "   macro avg       0.72      0.73      0.72       231\n",
            "weighted avg       0.75      0.74      0.75       231\n",
            "\n",
            "ROC AUC Score: 0.7904801324503311\n"
          ]
        }
      ]
    },
    {
      "cell_type": "markdown",
      "source": [
        "Karmaşıklık Matrisi (Confusion Matrix):\n",
        "119 doğru negatif ve 53 doğru pozitif sınıfı doğru bir şekilde tahmin edildi.\n",
        "32 yanlış pozitif ve 27 yanlış negatif sınıfı yanlış tahmin edildi.\n",
        "Modelin sınıfları ne kadar iyi ayırt ettiğini gösterir.\n",
        "Sınıflandırma Raporu (Classification Report):\n",
        "Sınıf ‘0’ için hassasiyet (precision) yüksek (0.82), yani ‘0’ sınıfını tahmin ettiğinde genellikle doğru.\n",
        "Sınıf ‘1’ için geri çağırma (recall) da nispeten yüksek (0.66), yani ‘1’ sınıfının tüm ilgili örneklerini tanımlamada iyi.\n",
        "F1 puanı, hassasiyet ve geri çağırmanın birleşimidir; burada ‘0’ sınıfı için 0.80 ve ‘1’ sınıfı için 0.64 dengeli F1 puanları görüyoruz.\n",
        "Genel doğruluk (accuracy) %74, yani Naive Bayes’in genel olarak yaptığı tahminlerin bu yüzdesi doğru.\n",
        "ROC Eğrisi ve AUC Puanı:\n",
        "ROC eğrisi, duyarlılık (TPR) ve özgüllük (1 - FPR) arasındaki ticaret-off’u gösterir. Eğri, alt sol köşeden başlar ve üst sol köşeye doğru hareket eder.\n",
        "AUC (Alan Altında Eğri), sınıflandırıcının iki sınıf arasında ne kadar iyi ayırt edebildiğini ölçer. Burada verilen metne göre AUC puanı 0.79, bu da sınıflandırıcının iyi bir ayrım yeteneğine sahip olduğunu gösterir.\n",
        "Sonuç olarak, Naive Bayes bu veri kümesinde iyi bir performans sergilemiş gibi görünüyor, ancak yanlış pozitif ve yanlış negatifleri azaltmak için iyileştirmeler yapılabilir. Genel olarak, bu sonuçlar, sınıflar arasındaki ayrım yeteneği ve makro/ponderasyonlu ortalama açısından tutarlı bir performans gösterdiğini gösteriyor."
      ],
      "metadata": {
        "id": "J1mBbOmywUop"
      }
    },
    {
      "cell_type": "markdown",
      "source": [
        "**K-Nearest Neighbors (KNN) Sınıflandırıcısını Uygulama ve En İyi k Değerini Belirleme**"
      ],
      "metadata": {
        "id": "8J-qc65rjJIL"
      }
    },
    {
      "cell_type": "markdown",
      "source": [
        "Cross-validation kullanarak en iyi k değerini belirleyelim."
      ],
      "metadata": {
        "id": "FSxNUJmsjMCJ"
      }
    },
    {
      "cell_type": "code",
      "source": [
        "from sklearn.neighbors import KNeighborsClassifier\n",
        "from sklearn.model_selection import GridSearchCV\n",
        "\n",
        "# KNN modeli ve parametre aralığı\n",
        "knn = KNeighborsClassifier()\n",
        "param_grid = {'n_neighbors': list(range(1, 31))}\n",
        "\n",
        "# GridSearchCV ile en iyi k değerini belirleme\n",
        "grid_search = GridSearchCV(knn, param_grid, cv=5, scoring='accuracy')\n",
        "grid_search.fit(X_train, y_train)\n",
        "\n",
        "# En iyi k değeri\n",
        "best_k = grid_search.best_params_['n_neighbors']\n",
        "print(f\"En iyi k değeri: {best_k}\")\n",
        "\n",
        "# En iyi k değeri ile KNN modelini oluşturma\n",
        "best_knn = KNeighborsClassifier(n_neighbors=best_k)\n",
        "best_knn.fit(X_train, y_train)\n",
        "\n",
        "# Test seti üzerinde tahminler yapma\n",
        "y_pred_knn = best_knn.predict(X_test)\n",
        "\n",
        "# Konfüzyon Matrisi ve Classification Report\n",
        "cm_knn = confusion_matrix(y_test, y_pred_knn)\n",
        "cr_knn = classification_report(y_test, y_pred_knn)\n",
        "roc_auc_knn = roc_auc_score(y_test, best_knn.predict_proba(X_test)[:, 1])\n",
        "\n",
        "# ROC Curve\n",
        "fpr_knn, tpr_knn, _ = roc_curve(y_test, best_knn.predict_proba(X_test)[:, 1])\n",
        "plt.figure()\n",
        "plt.plot(fpr_knn, tpr_knn, label=\"KNN\")\n",
        "plt.xlabel(\"False Positive Rate\")\n",
        "plt.ylabel(\"True Positive Rate\")\n",
        "plt.title(\"KNN ROC Curve\")\n",
        "plt.legend()\n",
        "plt.show()\n",
        "\n",
        "# Özet Sonuçlar\n",
        "print(\"K-Nearest Neighbors (KNN)\")\n",
        "print(\"Confusion Matrix:\")\n",
        "print(cm_knn)\n",
        "print(\"Classification Report:\")\n",
        "print(cr_knn)\n",
        "print(f\"ROC AUC Score: {roc_auc_knn}\")"
      ],
      "metadata": {
        "colab": {
          "base_uri": "https://localhost:8080/",
          "height": 762
        },
        "id": "Mx4diIvNjN3Y",
        "outputId": "f525fdec-79d6-4b75-a655-0f967c15e5ea"
      },
      "execution_count": 108,
      "outputs": [
        {
          "output_type": "stream",
          "name": "stdout",
          "text": [
            "En iyi k değeri: 7\n"
          ]
        },
        {
          "output_type": "display_data",
          "data": {
            "text/plain": [
              "<Figure size 640x480 with 1 Axes>"
            ],
            "image/png": "[encoded data removed]"
          },
          "metadata": {}
        },
        {
          "output_type": "stream",
          "name": "stdout",
          "text": [
            "K-Nearest Neighbors (KNN)\n",
            "Confusion Matrix:\n",
            "[[121  30]\n",
            " [ 40  40]]\n",
            "Classification Report:\n",
            "              precision    recall  f1-score   support\n",
            "\n",
            "           0       0.75      0.80      0.78       151\n",
            "           1       0.57      0.50      0.53        80\n",
            "\n",
            "    accuracy                           0.70       231\n",
            "   macro avg       0.66      0.65      0.65       231\n",
            "weighted avg       0.69      0.70      0.69       231\n",
            "\n",
            "ROC AUC Score: 0.753890728476821\n"
          ]
        }
      ]
    },
    {
      "cell_type": "markdown",
      "source": [
        "Karmaşıklık Matrisi (Confusion Matrix):\n",
        "151 örneği olan sınıf ‘0’ için 121 doğru negatif ve 40 doğru pozitif sınıfı doğru bir şekilde tahmin edildi.\n",
        "80 örneği olan sınıf ‘1’ için 30 yanlış pozitif ve 40 yanlış negatif sınıfı yanlış tahmin edildi.\n",
        "Modelin sınıfları ne kadar iyi ayırt ettiğini gösterir.\n",
        "Sınıflandırma Raporu (Classification Report):\n",
        "Sınıf ‘0’ için hassasiyet (precision) 0.75 ve geri çağırma (recall) 0.80, bu da 0.78 F1 puanına yol açtı.\n",
        "Sınıf ‘1’ için hassasiyet daha düşük (0.57), geri çağırma ise 0.50 ve F1 puanı 0.53.\n",
        "Genel doğruluk (accuracy) %70, makro ortalama ve ağırlıklı ortalama hassasiyet, geri çağırma ve F1 puanlarında %60’ların ortasından %70’e kadar bir aralıkta.\n",
        "ROC Eğrisi ve AUC Puanı:\n",
        "ROC eğrisi, duyarlılık (TPR) ve özgüllük (1 - FPR) arasındaki ticaret-off’u gösterir. Eğri, alt sol köşeden başlar ve üst sağ köşeye doğru hareket eder.\n",
        "Verilen metne göre ROC AUC Puanı yaklaşık 0.754, bu da ortalama bir ayrım yeteneği olduğunu gösterir; bir’e yakın değerler mükemmel model performansını, yarıya yakın değerler ise rastgele şansa göre bir performansı işaret eder.\n",
        "Özetle, bu KNN sınıflandırıcısı, iki sınıfı sınıflandırmada makul bir performans gösteriyor ve ‘0’ sınıfının örneklerini ‘1’ sınıfının örneklerinden daha iyi ayırt edebiliyor gibi görünüyor. ROC eğrisi de pozitif ve negatif sınıfları ayırt etme yeteneğini orta düzeyde destekliyor."
      ],
      "metadata": {
        "id": "b-dbLu0rxTl4"
      }
    },
    {
      "cell_type": "markdown",
      "source": [
        "**Multi-Layer Perceptron (MLP) Sınıflandırıcısını Uygulama**"
      ],
      "metadata": {
        "id": "fetrn88ahbs6"
      }
    },
    {
      "cell_type": "markdown",
      "source": [
        "MLP modelini oluşturup eğitelim ve test seti üzerinde tahminler yapalım."
      ],
      "metadata": {
        "id": "0hZ5GDKQhf5G"
      }
    },
    {
      "cell_type": "code",
      "source": [
        "from sklearn.neural_network import MLPClassifier\n",
        "\n",
        "# MLP modelini oluşturma\n",
        "mlp = MLPClassifier(max_iter=1000, random_state=42)\n",
        "mlp.fit(X_train, y_train)\n",
        "\n",
        "# Test seti üzerinde tahminler yapma\n",
        "y_pred_mlp = mlp.predict(X_test)\n",
        "\n",
        "# Konfüzyon Matrisi ve Classification Report\n",
        "cm_mlp = confusion_matrix(y_test, y_pred_mlp)\n",
        "cr_mlp = classification_report(y_test, y_pred_mlp)\n",
        "roc_auc_mlp = roc_auc_score(y_test, mlp.predict_proba(X_test)[:, 1])\n",
        "\n",
        "# ROC Curve\n",
        "fpr_mlp, tpr_mlp, _ = roc_curve(y_test, mlp.predict_proba(X_test)[:, 1])\n",
        "plt.figure()\n",
        "plt.plot(fpr_mlp, tpr_mlp, label=\"MLP\")\n",
        "plt.xlabel(\"False Positive Rate\")\n",
        "plt.ylabel(\"True Positive Rate\")\n",
        "plt.title(\"MLP ROC Curve\")\n",
        "plt.legend()\n",
        "plt.show()\n",
        "\n",
        "# Özet Sonuçlar\n",
        "print(\"Multi-Layer Perceptron (MLP)\")\n",
        "print(\"Confusion Matrix:\")\n",
        "print(cm_mlp)\n",
        "print(\"Classification Report:\")\n",
        "print(cr_mlp)\n",
        "print(f\"ROC AUC Score: {roc_auc_mlp}\")"
      ],
      "metadata": {
        "colab": {
          "base_uri": "https://localhost:8080/",
          "height": 744
        },
        "id": "Z7ctCWOmhhGM",
        "outputId": "7881229a-37ec-412a-89a1-0a1889b7e39b"
      },
      "execution_count": 109,
      "outputs": [
        {
          "output_type": "display_data",
          "data": {
            "text/plain": [
              "<Figure size 640x480 with 1 Axes>"
            ],
            "image/png": "[encoded data removed]"
          },
          "metadata": {}
        },
        {
          "output_type": "stream",
          "name": "stdout",
          "text": [
            "Multi-Layer Perceptron (MLP)\n",
            "Confusion Matrix:\n",
            "[[120  31]\n",
            " [ 38  42]]\n",
            "Classification Report:\n",
            "              precision    recall  f1-score   support\n",
            "\n",
            "           0       0.76      0.79      0.78       151\n",
            "           1       0.58      0.53      0.55        80\n",
            "\n",
            "    accuracy                           0.70       231\n",
            "   macro avg       0.67      0.66      0.66       231\n",
            "weighted avg       0.70      0.70      0.70       231\n",
            "\n",
            "ROC AUC Score: 0.7597682119205298\n"
          ]
        }
      ]
    },
    {
      "cell_type": "markdown",
      "source": [
        "Karmaşıklık Matrisi (Confusion Matrix):\n",
        "231 örneğin 120’si sınıf ‘0’ olarak doğru tahmin edildi (doğru negatifler).\n",
        "31’i sınıf ‘0’ olarak yanlış tahmin edildi (yanlış negatifler).\n",
        "38’i sınıf ‘1’ olarak yanlış tahmin edildi (yanlış pozitifler).\n",
        "42’si sınıf ‘1’ olarak doğru tahmin edildi (doğru pozitifler).\n",
        "Modelin sınıfları ne kadar iyi ayırt ettiğini gösterir.\n",
        "Sınıflandırma Raporu (Classification Report):\n",
        "Sınıf ‘0’ için hassasiyet (precision) sınıf '1’den daha yüksektir, bu da bir örneği sınıf ‘0’ olarak tahmin ettiğinde daha doğru olma eğiliminde olduğunu gösterir.\n",
        "Her iki sınıf için geri çağırma (recall) benzerdir, ancak sınıf ‘1’ için biraz daha düşüktür. Bu, modelin sınıf ‘1’ örneklerini kaçırdığını gösterir.\n",
        "ROC Eğrisi ve AUC Puanı:\n",
        "ROC eğrisi, duyarlılık (TPR) ve özgüllük (1 - FPR) arasındaki ticaret-off’u gösterir. Eğri, alt sol köşeden başlar ve üst sağ köşeye doğru hareket eder.\n",
        "Verilen metne göre ROC AUC Puanı yaklaşık 0.76’dır. Bu, modelin pozitif ve negatif sınıfları ayırt etme yeteneğinin iyi olduğunu gösterir; ancak hala iyileştirme alanı vardır, çünkü 1’e daha yakın bir AUC puanı neredeyse mükemmel ayrım anlamına gelir.\n",
        "Bu sonuçlar, model performansını artırmak için duyarlılığı artırma veya yanlış pozitifleri azaltma gibi alanları işaret edebilir."
      ],
      "metadata": {
        "id": "AXT1_2n8yO9u"
      }
    },
    {
      "cell_type": "markdown",
      "source": [
        "**Support Vector Machines (SVM) Sınıflandırıcısını Uygulama**"
      ],
      "metadata": {
        "id": "0iQZlXoxhjoG"
      }
    },
    {
      "cell_type": "markdown",
      "source": [
        "SVM modelini oluşturup eğitelim ve test seti üzerinde tahminler yapalım."
      ],
      "metadata": {
        "id": "itayry2ehkvM"
      }
    },
    {
      "cell_type": "code",
      "source": [
        "from sklearn.svm import SVC\n",
        "\n",
        "# SVM modelini oluşturma\n",
        "svm = SVC(probability=True, random_state=42)\n",
        "svm.fit(X_train, y_train)\n",
        "\n",
        "# Test seti üzerinde tahminler yapma\n",
        "y_pred_svm = svm.predict(X_test)\n",
        "\n",
        "# Konfüzyon Matrisi ve Classification Report\n",
        "cm_svm = confusion_matrix(y_test, y_pred_svm)\n",
        "cr_svm = classification_report(y_test, y_pred_svm)\n",
        "roc_auc_svm = roc_auc_score(y_test, svm.predict_proba(X_test)[:, 1])\n",
        "\n",
        "# ROC Curve\n",
        "fpr_svm, tpr_svm, _ = roc_curve(y_test, svm.predict_proba(X_test)[:, 1])\n",
        "plt.figure()\n",
        "plt.plot(fpr_svm, tpr_svm, label=\"SVM\")\n",
        "plt.xlabel(\"False Positive Rate\")\n",
        "plt.ylabel(\"True Positive Rate\")\n",
        "plt.title(\"SVM ROC Curve\")\n",
        "plt.legend()\n",
        "plt.show()\n",
        "\n",
        "# Özet Sonuçlar\n",
        "print(\"Support Vector Machines (SVM)\")\n",
        "print(\"Confusion Matrix:\")\n",
        "print(cm_svm)\n",
        "print(\"Classification Report:\")\n",
        "print(cr_svm)\n",
        "print(f\"ROC AUC Score: {roc_auc_svm}\")"
      ],
      "metadata": {
        "colab": {
          "base_uri": "https://localhost:8080/",
          "height": 744
        },
        "id": "jMDNtI1rhmVS",
        "outputId": "caebcd5a-ed66-4570-a7d3-677d682f72d2"
      },
      "execution_count": 110,
      "outputs": [
        {
          "output_type": "display_data",
          "data": {
            "text/plain": [
              "<Figure size 640x480 with 1 Axes>"
            ],
            "image/png": "[encoded data removed]"
          },
          "metadata": {}
        },
        {
          "output_type": "stream",
          "name": "stdout",
          "text": [
            "Support Vector Machines (SVM)\n",
            "Confusion Matrix:\n",
            "[[125  26]\n",
            " [ 33  47]]\n",
            "Classification Report:\n",
            "              precision    recall  f1-score   support\n",
            "\n",
            "           0       0.79      0.83      0.81       151\n",
            "           1       0.64      0.59      0.61        80\n",
            "\n",
            "    accuracy                           0.74       231\n",
            "   macro avg       0.72      0.71      0.71       231\n",
            "weighted avg       0.74      0.74      0.74       231\n",
            "\n",
            "ROC AUC Score: 0.7973509933774834\n"
          ]
        }
      ]
    },
    {
      "cell_type": "markdown",
      "source": [
        "Karmaşıklık Matrisi (Confusion Matrix):\n",
        "231 örneğin 125’i sınıf ‘0’ olarak doğru tahmin edildi (doğru negatifler).\n",
        "26’sı sınıf ‘0’ olarak yanlış tahmin edildi (yanlış negatifler).\n",
        "33’ü sınıf ‘1’ olarak yanlış tahmin edildi (yanlış pozitifler).\n",
        "47’si sınıf ‘1’ olarak doğru tahmin edildi (doğru pozitifler).\n",
        "Modelin sınıfları ne kadar iyi ayırt ettiğini gösterir.\n",
        "Sınıflandırma Raporu (Classification Report):\n",
        "Sınıf ‘0’ için hassasiyet (precision) sınıf '1’den daha yüksektir, bu da bir örneği sınıf ‘0’ olarak tahmin ettiğinde daha doğru olma eğiliminde olduğunu gösterir.\n",
        "Sınıf ‘0’ için geri çağırma (recall) da yüksektir, yani tüm gerçek sınıf ‘0’ örneklerinin %83’ünü doğru bir şekilde tanımlar.\n",
        "Sınıf ‘0’ için F1 puanı yaklaşık %81’dir, bu da bu sınıf için dengeli bir hassasiyet-geri çağırma ticaret-off’u gösterir.\n",
        "Sınıf ‘1’ için hassasiyet ve geri çağırma sınıf ‘0’ kadar yüksek değildir. Bu, bu azınlık sınıfını tahmin ederken daha fazla yanlış pozitif veya yanlış negatif olabileceğini gösterebilir.\n",
        "Makro ortalama ve ağırlıklı ortalama puanları sırasıyla %72 ve %74 civarındadır. Bu ortalama değerler her iki sınıfın performansını da dikkate alırken ağırlıklı ortalama, çoğunluk sınıfına daha fazla ağırlık verir.\n",
        "Verilen ROC AUC Puanı yaklaşık 0.797, genel olarak modelin iyi bir ayrım yeteneğine sahip olduğunu gösterir; pozitif ve negatif sınıfları oldukça iyi ayırt edebilir.\n",
        "Bu bilgiler, özellikle azınlık sınıfları tahmin etme konusunda iyileştirme alanı olsa da, SVM sınıflandırıcısının bu metriklere göre makul bir performans sergilediğini gösteriyor."
      ],
      "metadata": {
        "id": "GDyLEMVKy7ij"
      }
    },
    {
      "cell_type": "markdown",
      "source": [
        "**Sonuçların Raporlanması**"
      ],
      "metadata": {
        "id": "MaKdTA7Ohodl"
      }
    },
    {
      "cell_type": "markdown",
      "source": [
        "Bu adımlarla elde edilen metrikleri gözlemleyip bir kanıya varmamız gerekirse genel olarak bakıldığında; SVM en yüksek ROC ve AUC puanına sahip, ayrıca sınıf 0'ı daha iyi tahmin ediyor gibi görünüyor."
      ],
      "metadata": {
        "id": "NOM-DneOhrpy"
      }
    }
  ]
}